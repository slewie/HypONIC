{
 "metadata": {
  "kernelspec": {
   "display_name": "Python 3",
   "language": "python",
   "name": "python3"
  },
  "language_info": {
   "name": "python",
   "version": "3.10.10",
   "mimetype": "text/x-python",
   "codemirror_mode": {
    "name": "ipython",
    "version": 3
   },
   "pygments_lexer": "ipython3",
   "nbconvert_exporter": "python",
   "file_extension": ".py"
  }
 },
 "nbformat_minor": 4,
 "nbformat": 4,
 "cells": [
  {
   "cell_type": "markdown",
   "source": [
    "**Hello everyone**! I am going to compare different nature inspired algorithms for optimizing hyperparameters of the sklearn models. I will run test on classification and one on regression. For each of the problem type I'll 3 different models.\n",
    "\n",
    "For the nature inspired algorithm I'll use these:\n",
    "* Artificial Bee Colony (ABC)\n",
    "* Cuckoo Search (CS)\n",
    "* Genetic Algorithm (GA)\n",
    "* Grey Wolf Optimization (GWO)\n",
    "* Particle Swarm Optimization (PSO)\n",
    "* Inertia Weight Particle Swarm Optimization (IWPSO)\n",
    "* Simulated Annealing (SA)\n",
    "\n",
    "These algorithms were implemented in my library [HypONIC](https://github.com/slewie/HypONIC)"
   ],
   "metadata": {
    "pycharm": {
     "name": "#%% md\n"
    }
   }
  },
  {
   "cell_type": "code",
   "source": [
    "!pip install hyponic"
   ],
   "metadata": {
    "execution": {
     "iopub.status.busy": "2023-05-31T11:41:24.392083Z",
     "iopub.execute_input": "2023-05-31T11:41:24.392523Z",
     "iopub.status.idle": "2023-05-31T11:41:39.384270Z",
     "shell.execute_reply.started": "2023-05-31T11:41:24.392470Z",
     "shell.execute_reply": "2023-05-31T11:41:39.383130Z"
    },
    "trusted": true,
    "pycharm": {
     "name": "#%%\n"
    }
   },
   "execution_count": 1,
   "outputs": [
    {
     "name": "stdout",
     "text": "Collecting hyponic\n  Downloading hyponic-0.1.1-py3-none-any.whl (28 kB)\nRequirement already satisfied: numpy>=1.23.5 in /opt/conda/lib/python3.10/site-packages (from hyponic) (1.23.5)\nRequirement already satisfied: numexpr>=2.8.4 in /opt/conda/lib/python3.10/site-packages (from hyponic) (2.8.4)\nRequirement already satisfied: numba>=0.57.0 in /opt/conda/lib/python3.10/site-packages (from hyponic) (0.57.0)\nRequirement already satisfied: matplotlib>=3.6.3 in /opt/conda/lib/python3.10/site-packages (from hyponic) (3.6.3)\nRequirement already satisfied: contourpy>=1.0.1 in /opt/conda/lib/python3.10/site-packages (from matplotlib>=3.6.3->hyponic) (1.0.7)\nRequirement already satisfied: cycler>=0.10 in /opt/conda/lib/python3.10/site-packages (from matplotlib>=3.6.3->hyponic) (0.11.0)\nRequirement already satisfied: fonttools>=4.22.0 in /opt/conda/lib/python3.10/site-packages (from matplotlib>=3.6.3->hyponic) (4.39.3)\nRequirement already satisfied: kiwisolver>=1.0.1 in /opt/conda/lib/python3.10/site-packages (from matplotlib>=3.6.3->hyponic) (1.4.4)\nRequirement already satisfied: packaging>=20.0 in /opt/conda/lib/python3.10/site-packages (from matplotlib>=3.6.3->hyponic) (21.3)\nRequirement already satisfied: pillow>=6.2.0 in /opt/conda/lib/python3.10/site-packages (from matplotlib>=3.6.3->hyponic) (9.5.0)\nRequirement already satisfied: pyparsing>=2.2.1 in /opt/conda/lib/python3.10/site-packages (from matplotlib>=3.6.3->hyponic) (3.0.9)\nRequirement already satisfied: python-dateutil>=2.7 in /opt/conda/lib/python3.10/site-packages (from matplotlib>=3.6.3->hyponic) (2.8.2)\nRequirement already satisfied: llvmlite<0.41,>=0.40.0dev0 in /opt/conda/lib/python3.10/site-packages (from numba>=0.57.0->hyponic) (0.40.0)\nRequirement already satisfied: six>=1.5 in /opt/conda/lib/python3.10/site-packages (from python-dateutil>=2.7->matplotlib>=3.6.3->hyponic) (1.16.0)\nInstalling collected packages: hyponic\nSuccessfully installed hyponic-0.1.1\n\u001B[33mWARNING: Running pip as the 'root' user can result in broken permissions and conflicting behaviour with the system package manager. It is recommended to use a virtual environment instead: https://pip.pypa.io/warnings/venv\u001B[0m\u001B[33m\n\u001B[0m",
     "output_type": "stream"
    }
   ]
  },
  {
   "cell_type": "code",
   "source": [
    "import pandas as pd\n",
    "import numpy as np\n",
    "import matplotlib.pyplot as plt\n",
    "from hyponic.hyponic import HypONIC\n",
    "from hyponic.optimizers.swarm_based.ABC import ABC\n",
    "from hyponic.optimizers.swarm_based.ACO import ACO\n",
    "from hyponic.optimizers.swarm_based.CS import CS\n",
    "from hyponic.optimizers.swarm_based.GWO import GWO\n",
    "from hyponic.optimizers.swarm_based.PSO import PSO, IWPSO\n",
    "from hyponic.optimizers.physics_based.SA import SA\n",
    "from hyponic.optimizers.genetic_based.GA import GA\n",
    "from hyponic.metrics.regression import mse\n",
    "from hyponic.metrics.classification import f1_score\n",
    "from sklearn.model_selection import train_test_split\n",
    "from sklearn.preprocessing import MinMaxScaler\n",
    "from sklearn.svm import SVC\n",
    "from sklearn.neighbors import KNeighborsClassifier, KNeighborsRegressor\n",
    "from sklearn.tree import DecisionTreeClassifier, DecisionTreeRegressor\n",
    "from sklearn.ensemble import GradientBoostingRegressor\n",
    "from time import time"
   ],
   "metadata": {
    "execution": {
     "iopub.status.busy": "2023-05-31T11:43:07.786513Z",
     "iopub.execute_input": "2023-05-31T11:43:07.786923Z",
     "iopub.status.idle": "2023-05-31T11:43:07.796288Z",
     "shell.execute_reply.started": "2023-05-31T11:43:07.786891Z",
     "shell.execute_reply": "2023-05-31T11:43:07.795288Z"
    },
    "trusted": true,
    "pycharm": {
     "name": "#%%\n"
    }
   },
   "execution_count": 3,
   "outputs": []
  },
  {
   "cell_type": "code",
   "source": [
    "def run(models, optimizers, test):\n",
    "    time_results = {}\n",
    "    score_results = {}\n",
    "    time_results = {}\n",
    "    score_results = {}\n",
    "    for model in models:\n",
    "        for optimizer in optimizers:\n",
    "            results = test(model, optimizer, X_train_sc, np.array(y_train), X_test_sc, np.array(y_test))\n",
    "            time_results[(model.__class__.__name__, optimizer.__name__)] = results[0]\n",
    "            score_results[(model.__class__.__name__, optimizer.__name__)] = results[1]\n",
    "        print(\"\\nBest results:\")\n",
    "        print(f\"Optimizer: {min(time_results, key=time_results.get)[1]}, Time: {min(time_results.values())}\")\n",
    "        print(f\"Optimizer: {max(score_results, key=score_results.get)[1]}, Score: {max(score_results.values())}\\n\")\n",
    "        print(\"==================\\n\")\n",
    "    return time_results, score_results"
   ],
   "metadata": {
    "execution": {
     "iopub.status.busy": "2023-05-31T11:43:08.027611Z",
     "iopub.execute_input": "2023-05-31T11:43:08.028832Z",
     "iopub.status.idle": "2023-05-31T11:43:08.038406Z",
     "shell.execute_reply.started": "2023-05-31T11:43:08.028786Z",
     "shell.execute_reply": "2023-05-31T11:43:08.037181Z"
    },
    "trusted": true,
    "pycharm": {
     "name": "#%%\n"
    }
   },
   "execution_count": 4,
   "outputs": []
  },
  {
   "cell_type": "code",
   "source": [
    "optimizer_kwargs = {\n",
    "    'epoch': 50,\n",
    "    'population_size': 50,\n",
    "}\n",
    "optimizers = [ABC, CS, GWO, PSO, IWPSO, SA, GA]"
   ],
   "metadata": {
    "execution": {
     "iopub.status.busy": "2023-05-31T11:43:08.161903Z",
     "iopub.execute_input": "2023-05-31T11:43:08.162285Z",
     "iopub.status.idle": "2023-05-31T11:43:08.167383Z",
     "shell.execute_reply.started": "2023-05-31T11:43:08.162257Z",
     "shell.execute_reply": "2023-05-31T11:43:08.166528Z"
    },
    "trusted": true,
    "pycharm": {
     "name": "#%%\n"
    }
   },
   "execution_count": 5,
   "outputs": []
  },
  {
   "cell_type": "markdown",
   "source": [
    "# Classification\n",
    "\n",
    "Models: SVM, KNN, Decision Tree\n",
    "\n",
    "Dataset: Heart Failure Prediction Dataset"
   ],
   "metadata": {
    "pycharm": {
     "name": "#%% md\n"
    }
   }
  },
  {
   "cell_type": "markdown",
   "source": [
    "### Models and Optimizers hyperparameters"
   ],
   "metadata": {
    "pycharm": {
     "name": "#%% md\n"
    }
   }
  },
  {
   "cell_type": "code",
   "source": [
    "hyperparams_svc = {\n",
    "    'C': (0.1, 10),\n",
    "    'gamma': (0.001, 1),\n",
    "    'kernel': ['rbf', 'poly', 'sigmoid'],\n",
    "    'degree': [1, 2, 3, 4, 5]\n",
    "}\n",
    "\n",
    "hyperparams_knnc = {\n",
    "    'n_neighbors': range(1, 20),\n",
    "    'weights': ['uniform', 'distance'],\n",
    "    'algorithm': ['auto', 'ball_tree', 'kd_tree', 'brute'],\n",
    "}\n",
    "\n",
    "hyperparams_dtc = {\n",
    "    'criterion': ['gini', 'entropy'],\n",
    "    'splitter': ['best', 'random'],\n",
    "    'max_depth': range(1, 20),\n",
    "    'min_samples_split': range(2, 20),\n",
    "    'min_samples_leaf': range(1, 20)\n",
    "}"
   ],
   "metadata": {
    "pycharm": {
     "name": "#%%\n"
    },
    "execution": {
     "iopub.status.busy": "2023-05-31T11:43:08.869373Z",
     "iopub.execute_input": "2023-05-31T11:43:08.869801Z",
     "iopub.status.idle": "2023-05-31T11:43:08.877854Z",
     "shell.execute_reply.started": "2023-05-31T11:43:08.869767Z",
     "shell.execute_reply": "2023-05-31T11:43:08.876586Z"
    },
    "trusted": true
   },
   "execution_count": 6,
   "outputs": []
  },
  {
   "cell_type": "code",
   "source": [
    "model_params_cs = {\n",
    "    'SVC': hyperparams_svc,\n",
    "    'KNeighborsClassifier': hyperparams_knnc,\n",
    "    'DecisionTreeClassifier': hyperparams_dtc\n",
    "}"
   ],
   "metadata": {
    "execution": {
     "iopub.status.busy": "2023-05-31T11:43:08.899230Z",
     "iopub.execute_input": "2023-05-31T11:43:08.899624Z",
     "iopub.status.idle": "2023-05-31T11:43:08.904954Z",
     "shell.execute_reply.started": "2023-05-31T11:43:08.899594Z",
     "shell.execute_reply": "2023-05-31T11:43:08.903805Z"
    },
    "trusted": true,
    "pycharm": {
     "name": "#%%\n"
    }
   },
   "execution_count": 7,
   "outputs": []
  },
  {
   "cell_type": "markdown",
   "source": [
    "### Preparing Dataset"
   ],
   "metadata": {
    "pycharm": {
     "name": "#%% md\n"
    }
   }
  },
  {
   "cell_type": "code",
   "source": [
    "df = pd.read_csv(\"/kaggle/input/heart-failure-prediction/heart.csv\")"
   ],
   "metadata": {
    "collapsed": false,
    "pycharm": {
     "name": "#%%\n"
    },
    "jupyter": {
     "outputs_hidden": false
    },
    "execution": {
     "iopub.status.busy": "2023-05-31T11:43:08.985878Z",
     "iopub.execute_input": "2023-05-31T11:43:08.986252Z",
     "iopub.status.idle": "2023-05-31T11:43:09.022036Z",
     "shell.execute_reply.started": "2023-05-31T11:43:08.986224Z",
     "shell.execute_reply": "2023-05-31T11:43:09.020798Z"
    },
    "trusted": true
   },
   "execution_count": 8,
   "outputs": []
  },
  {
   "cell_type": "code",
   "source": [
    "cat_columns = ['Sex', 'ChestPainType', 'RestingECG', 'ExerciseAngina', 'ST_Slope']\n",
    "num_columns = ['Age', 'RestingBP', 'Cholesterol', 'MaxHR', 'Oldpeak', 'FastingBS']\n",
    "cat_encoded = pd.get_dummies(df[cat_columns])\n",
    "X = pd.concat([df[num_columns], cat_encoded], axis=1)\n",
    "y = df['HeartDisease']"
   ],
   "metadata": {
    "collapsed": false,
    "pycharm": {
     "name": "#%%\n"
    },
    "jupyter": {
     "outputs_hidden": false
    },
    "execution": {
     "iopub.status.busy": "2023-05-31T11:43:09.040337Z",
     "iopub.execute_input": "2023-05-31T11:43:09.040859Z",
     "iopub.status.idle": "2023-05-31T11:43:09.073287Z",
     "shell.execute_reply.started": "2023-05-31T11:43:09.040807Z",
     "shell.execute_reply": "2023-05-31T11:43:09.072153Z"
    },
    "trusted": true
   },
   "execution_count": 9,
   "outputs": []
  },
  {
   "cell_type": "code",
   "source": [
    "X_train, X_test, y_train, y_test = train_test_split(X, y, test_size=0.2)"
   ],
   "metadata": {
    "collapsed": false,
    "pycharm": {
     "name": "#%%\n"
    },
    "jupyter": {
     "outputs_hidden": false
    },
    "execution": {
     "iopub.status.busy": "2023-05-31T11:43:09.075088Z",
     "iopub.execute_input": "2023-05-31T11:43:09.075431Z",
     "iopub.status.idle": "2023-05-31T11:43:09.083390Z",
     "shell.execute_reply.started": "2023-05-31T11:43:09.075401Z",
     "shell.execute_reply": "2023-05-31T11:43:09.081982Z"
    },
    "trusted": true
   },
   "execution_count": 10,
   "outputs": []
  },
  {
   "cell_type": "code",
   "source": [
    "scaler = MinMaxScaler()\n",
    "X_train_sc = scaler.fit_transform(X_train)\n",
    "X_test_sc = scaler.transform(X_test)"
   ],
   "metadata": {
    "collapsed": false,
    "pycharm": {
     "name": "#%%\n"
    },
    "jupyter": {
     "outputs_hidden": false
    },
    "execution": {
     "iopub.status.busy": "2023-05-31T11:43:09.093540Z",
     "iopub.execute_input": "2023-05-31T11:43:09.094483Z",
     "iopub.status.idle": "2023-05-31T11:43:09.108016Z",
     "shell.execute_reply.started": "2023-05-31T11:43:09.094447Z",
     "shell.execute_reply": "2023-05-31T11:43:09.107031Z"
    },
    "trusted": true
   },
   "execution_count": 11,
   "outputs": []
  },
  {
   "cell_type": "markdown",
   "source": [
    "### Run tests"
   ],
   "metadata": {
    "pycharm": {
     "name": "#%% md\n"
    }
   }
  },
  {
   "cell_type": "code",
   "source": [
    "def run_test_classification(model, optimizer, X_train, y_train, X_test, y_test):\n",
    "    print(f\"Running {model.__class__.__name__} with {optimizer.__name__}\")\n",
    "    hyperparams = model_params_cs[model.__class__.__name__]\n",
    "    hyponic = HypONIC(model, X_train, y_train, \"log_loss\", optimizer, **optimizer_kwargs)\n",
    "    start = time()\n",
    "    hyponic.optimize(hyperparams)\n",
    "    end = time()\n",
    "    time_taken = end - start\n",
    "    print(f\"Time taken: {time_taken}\")\n",
    "    optimized_model = hyponic.get_optimized_model()\n",
    "    y_pred = optimized_model.predict(X_test)\n",
    "    f1 = f1_score(y_test, y_pred)\n",
    "    print(f\"F1 Score: {f1}\\n\")\n",
    "    return time_taken, f1"
   ],
   "metadata": {
    "collapsed": false,
    "pycharm": {
     "name": "#%%\n"
    },
    "jupyter": {
     "outputs_hidden": false
    },
    "execution": {
     "iopub.status.busy": "2023-05-31T11:43:09.120839Z",
     "iopub.execute_input": "2023-05-31T11:43:09.121674Z",
     "iopub.status.idle": "2023-05-31T11:43:09.130868Z",
     "shell.execute_reply.started": "2023-05-31T11:43:09.121630Z",
     "shell.execute_reply": "2023-05-31T11:43:09.129644Z"
    },
    "trusted": true
   },
   "execution_count": 12,
   "outputs": []
  },
  {
   "cell_type": "code",
   "source": [
    "models_cs = [DecisionTreeClassifier(), SVC(), KNeighborsClassifier()]"
   ],
   "metadata": {
    "collapsed": false,
    "pycharm": {
     "name": "#%%\n"
    },
    "jupyter": {
     "outputs_hidden": false
    },
    "execution": {
     "iopub.status.busy": "2023-05-31T11:43:09.154921Z",
     "iopub.execute_input": "2023-05-31T11:43:09.155326Z",
     "iopub.status.idle": "2023-05-31T11:43:09.159674Z",
     "shell.execute_reply.started": "2023-05-31T11:43:09.155297Z",
     "shell.execute_reply": "2023-05-31T11:43:09.158764Z"
    },
    "trusted": true
   },
   "execution_count": 13,
   "outputs": []
  },
  {
   "cell_type": "code",
   "source": [
    "results_cs = run(models_cs, optimizers, run_test_classification)"
   ],
   "metadata": {
    "execution": {
     "iopub.status.busy": "2023-05-31T11:43:09.177457Z",
     "iopub.execute_input": "2023-05-31T11:43:09.177865Z",
     "iopub.status.idle": "2023-05-31T12:07:32.999412Z",
     "shell.execute_reply.started": "2023-05-31T11:43:09.177837Z",
     "shell.execute_reply": "2023-05-31T12:07:32.998181Z"
    },
    "trusted": true,
    "pycharm": {
     "name": "#%%\n"
    }
   },
   "execution_count": 14,
   "outputs": [
    {
     "name": "stdout",
     "text": "Running DecisionTreeClassifier with ABC\nTime taken: 20.592409372329712\nF1 Score: 0.8300000000000002\n\nRunning DecisionTreeClassifier with CS\nTime taken: 1.97603440284729\nF1 Score: 0.8059701492537314\n\nRunning DecisionTreeClassifier with GWO\nTime taken: 8.027542114257812\nF1 Score: 0.8349514563106797\n\nRunning DecisionTreeClassifier with PSO\nTime taken: 8.87399673461914\nF1 Score: 0.8275862068965516\n\nRunning DecisionTreeClassifier with IWPSO\nTime taken: 9.28302812576294\nF1 Score: 0.8316831683168315\n\nRunning DecisionTreeClassifier with SA\nTime taken: 6.780801296234131\nF1 Score: 0.8516746411483254\n\nRunning DecisionTreeClassifier with GA\nTime taken: 6.513257741928101\nF1 Score: 0.8333333333333334\n\n\nBest results:\nOptimizer: CS, Time: 1.97603440284729\nOptimizer: SA, Score: 0.8516746411483254\n\n==================\n\nRunning SVC with ABC\nTime taken: 298.15651869773865\nF1 Score: 0.7132867132867133\n\nRunning SVC with CS\nTime taken: 26.309800148010254\nF1 Score: 0.832535885167464\n\nRunning SVC with GWO\nTime taken: 132.55893325805664\nF1 Score: 0.7132867132867133\n\nRunning SVC with PSO\nTime taken: 115.16168594360352\nF1 Score: 0.838095238095238\n\nRunning SVC with IWPSO\nTime taken: 140.6123435497284\nF1 Score: 0.8476190476190476\n\nRunning SVC with SA\nTime taken: 92.44204330444336\nF1 Score: 0.8516746411483254\n\nRunning SVC with GA\nTime taken: 104.43047857284546\nF1 Score: 0.838095238095238\n\n\nBest results:\nOptimizer: CS, Time: 1.97603440284729\nOptimizer: SA, Score: 0.8516746411483254\n\n==================\n\nRunning KNeighborsClassifier with ABC\nTime taken: 116.66694784164429\nF1 Score: 0.8356807511737089\n\nRunning KNeighborsClassifier with CS\nTime taken: 20.403345823287964\nF1 Score: 0.8502415458937198\n\nRunning KNeighborsClassifier with GWO\nTime taken: 55.321284532547\nF1 Score: 0.8356807511737089\n\nRunning KNeighborsClassifier with PSO\nTime taken: 62.14587450027466\nF1 Score: 0.8627450980392157\n\nRunning KNeighborsClassifier with IWPSO\nTime taken: 79.69823431968689\nF1 Score: 0.8627450980392157\n\nRunning KNeighborsClassifier with SA\nTime taken: 70.40883159637451\nF1 Score: 0.8627450980392157\n\nRunning KNeighborsClassifier with GA\nTime taken: 85.23367118835449\nF1 Score: 0.8627450980392157\n\n\nBest results:\nOptimizer: CS, Time: 1.97603440284729\nOptimizer: PSO, Score: 0.8627450980392157\n\n==================\n\n",
     "output_type": "stream"
    }
   ]
  },
  {
   "cell_type": "markdown",
   "source": [
    "# Regression\n",
    "Models: Decision Tree, KNN, Boosting\n",
    "\n",
    "Dataset: Fish market"
   ],
   "metadata": {
    "pycharm": {
     "name": "#%% md\n"
    }
   }
  },
  {
   "cell_type": "markdown",
   "source": [
    "### Models and Optimizers hyperparameters"
   ],
   "metadata": {
    "pycharm": {
     "name": "#%% md\n"
    }
   }
  },
  {
   "cell_type": "code",
   "source": [
    "hyperparams_dtr = {\n",
    "    'criterion': ['squared_error', 'friedman_mse', 'absolute_error'],\n",
    "    'splitter': ['best', 'random'],\n",
    "    'max_depth': [i for i in range(1, 20)],\n",
    "    'min_samples_split': [i for i in range(2, 20)],\n",
    "    'min_samples_leaf': [i for i in range(1, 20)]\n",
    "}\n",
    "\n",
    "hyperparams_knnr = {\n",
    "    'n_neighbors': [i for i in range(1, 20)],\n",
    "    'weights': ['uniform', 'distance'],\n",
    "    'algorithm': ['auto', 'ball_tree', 'kd_tree', 'brute'],\n",
    "}\n",
    "\n",
    "hyperparams_gbr = {\n",
    "    'learning_rate': [0.001, 0.01, 0.1, 1],\n",
    "    'n_estimators': [i for i in range(1, 100, 5)],\n",
    "    'loss': ['squared_error', 'absolute_error'],\n",
    "    'max_depth': [i for i in range(1, 20)],\n",
    "    'min_samples_split': [i for i in range(2, 20)],\n",
    "    'min_samples_leaf': [i for i in range(1, 20)]\n",
    "}"
   ],
   "metadata": {
    "execution": {
     "iopub.status.busy": "2023-05-31T12:07:33.002147Z",
     "iopub.execute_input": "2023-05-31T12:07:33.002734Z",
     "iopub.status.idle": "2023-05-31T12:07:33.014477Z",
     "shell.execute_reply.started": "2023-05-31T12:07:33.002672Z",
     "shell.execute_reply": "2023-05-31T12:07:33.013537Z"
    },
    "trusted": true,
    "pycharm": {
     "name": "#%%\n"
    }
   },
   "execution_count": 15,
   "outputs": []
  },
  {
   "cell_type": "code",
   "source": [
    "model_params_reg = {\n",
    "    'DecisionTreeRegressor': hyperparams_dtr,\n",
    "    'KNeighborsRegressor': hyperparams_knnr,\n",
    "    'GradientBoostingRegressor': hyperparams_gbr\n",
    "}\n"
   ],
   "metadata": {
    "execution": {
     "iopub.status.busy": "2023-05-31T12:07:33.015829Z",
     "iopub.execute_input": "2023-05-31T12:07:33.016840Z",
     "iopub.status.idle": "2023-05-31T12:07:33.033393Z",
     "shell.execute_reply.started": "2023-05-31T12:07:33.016804Z",
     "shell.execute_reply": "2023-05-31T12:07:33.032399Z"
    },
    "trusted": true,
    "pycharm": {
     "name": "#%%\n"
    }
   },
   "execution_count": 16,
   "outputs": []
  },
  {
   "cell_type": "markdown",
   "source": [
    "### Preparing Dataset"
   ],
   "metadata": {
    "pycharm": {
     "name": "#%% md\n"
    }
   }
  },
  {
   "cell_type": "code",
   "source": [
    "df = pd.read_csv('/kaggle/input/fish-market/Fish.csv')"
   ],
   "metadata": {
    "execution": {
     "iopub.status.busy": "2023-05-31T12:07:33.036479Z",
     "iopub.execute_input": "2023-05-31T12:07:33.037444Z",
     "iopub.status.idle": "2023-05-31T12:07:33.070432Z",
     "shell.execute_reply.started": "2023-05-31T12:07:33.037383Z",
     "shell.execute_reply": "2023-05-31T12:07:33.069465Z"
    },
    "trusted": true,
    "pycharm": {
     "name": "#%%\n"
    }
   },
   "execution_count": 17,
   "outputs": []
  },
  {
   "cell_type": "code",
   "source": [
    "cat_columns = ['Species']\n",
    "num_columns = ['Weight', 'Length1', 'Length2', 'Length3', 'Height', 'Width']\n",
    "cat_encoded = pd.get_dummies(df[cat_columns])\n",
    "X = pd.concat([df[num_columns], cat_encoded], axis=1)\n",
    "y = df['Weight']"
   ],
   "metadata": {
    "execution": {
     "iopub.status.busy": "2023-05-31T12:07:33.071931Z",
     "iopub.execute_input": "2023-05-31T12:07:33.073207Z",
     "iopub.status.idle": "2023-05-31T12:07:33.085247Z",
     "shell.execute_reply.started": "2023-05-31T12:07:33.073162Z",
     "shell.execute_reply": "2023-05-31T12:07:33.083960Z"
    },
    "trusted": true,
    "pycharm": {
     "name": "#%%\n"
    }
   },
   "execution_count": 18,
   "outputs": []
  },
  {
   "cell_type": "code",
   "source": [
    "X_train, X_test, y_train, y_test = train_test_split(X, y, test_size=0.2)"
   ],
   "metadata": {
    "execution": {
     "iopub.status.busy": "2023-05-31T12:07:33.087168Z",
     "iopub.execute_input": "2023-05-31T12:07:33.087595Z",
     "iopub.status.idle": "2023-05-31T12:07:33.105575Z",
     "shell.execute_reply.started": "2023-05-31T12:07:33.087562Z",
     "shell.execute_reply": "2023-05-31T12:07:33.104247Z"
    },
    "trusted": true,
    "pycharm": {
     "name": "#%%\n"
    }
   },
   "execution_count": 19,
   "outputs": []
  },
  {
   "cell_type": "code",
   "source": [
    "scaler = MinMaxScaler()\n",
    "X_train_sc = scaler.fit_transform(X_train)\n",
    "X_test_sc = scaler.transform(X_test)"
   ],
   "metadata": {
    "execution": {
     "iopub.status.busy": "2023-05-31T12:07:33.106979Z",
     "iopub.execute_input": "2023-05-31T12:07:33.107305Z",
     "iopub.status.idle": "2023-05-31T12:07:33.123780Z",
     "shell.execute_reply.started": "2023-05-31T12:07:33.107278Z",
     "shell.execute_reply": "2023-05-31T12:07:33.122561Z"
    },
    "trusted": true,
    "pycharm": {
     "name": "#%%\n"
    }
   },
   "execution_count": 20,
   "outputs": []
  },
  {
   "cell_type": "markdown",
   "source": [
    "### Running tests"
   ],
   "metadata": {
    "pycharm": {
     "name": "#%% md\n"
    }
   }
  },
  {
   "cell_type": "code",
   "source": [
    "def run_test_regression(model, optimizer, X_train, y_train, X_test, y_test):\n",
    "    print(f\"Running {model.__class__.__name__} with {optimizer.__name__}\")\n",
    "    hyperparams = model_params_reg[model.__class__.__name__]\n",
    "    hyponic = HypONIC(model, X_train, y_train, mse, optimizer, **optimizer_kwargs)\n",
    "    start = time()\n",
    "    hyponic.optimize(hyperparams)\n",
    "    end = time()\n",
    "    time_taken = end - start\n",
    "    print(f\"Time taken: {time_taken}\")\n",
    "    optimized_model = hyponic.get_optimized_model()\n",
    "    y_pred = optimized_model.predict(X_test)\n",
    "    mse_score = mse(y_test, y_pred)\n",
    "    print(f\"MSE: {mse_score}\\n\")\n",
    "    return time_taken, mse_score"
   ],
   "metadata": {
    "execution": {
     "iopub.status.busy": "2023-05-31T12:07:33.125154Z",
     "iopub.execute_input": "2023-05-31T12:07:33.125863Z",
     "iopub.status.idle": "2023-05-31T12:07:33.138989Z",
     "shell.execute_reply.started": "2023-05-31T12:07:33.125821Z",
     "shell.execute_reply": "2023-05-31T12:07:33.137872Z"
    },
    "trusted": true,
    "pycharm": {
     "name": "#%%\n"
    }
   },
   "execution_count": 21,
   "outputs": []
  },
  {
   "cell_type": "code",
   "source": [
    "models_reg = [KNeighborsRegressor(),DecisionTreeRegressor(),  GradientBoostingRegressor()]"
   ],
   "metadata": {
    "execution": {
     "iopub.status.busy": "2023-05-31T12:07:33.140567Z",
     "iopub.execute_input": "2023-05-31T12:07:33.141088Z",
     "iopub.status.idle": "2023-05-31T12:07:33.152414Z",
     "shell.execute_reply.started": "2023-05-31T12:07:33.141008Z",
     "shell.execute_reply": "2023-05-31T12:07:33.151447Z"
    },
    "trusted": true,
    "pycharm": {
     "name": "#%%\n"
    }
   },
   "execution_count": 22,
   "outputs": []
  },
  {
   "cell_type": "code",
   "source": [
    "results_reg = run(models_reg, optimizers, run_test_regression)"
   ],
   "metadata": {
    "execution": {
     "iopub.status.busy": "2023-05-31T12:07:33.155765Z",
     "iopub.execute_input": "2023-05-31T12:07:33.156441Z",
     "iopub.status.idle": "2023-05-31T12:28:45.728624Z",
     "shell.execute_reply.started": "2023-05-31T12:07:33.156404Z",
     "shell.execute_reply": "2023-05-31T12:28:45.727656Z"
    },
    "trusted": true,
    "pycharm": {
     "name": "#%%\n"
    }
   },
   "execution_count": 23,
   "outputs": [
    {
     "name": "stdout",
     "text": "Running KNeighborsRegressor with ABC\nTime taken: 13.176540613174438\nMSE: 2597.2815625000003\n\nRunning KNeighborsRegressor with CS\nTime taken: 1.5923922061920166\nMSE: 2597.2815625\n\nRunning KNeighborsRegressor with GWO\nTime taken: 5.540287971496582\nMSE: 2597.2815625000003\n\nRunning KNeighborsRegressor with PSO\nTime taken: 5.66847038269043\nMSE: 1893.5906339586938\n\nRunning KNeighborsRegressor with IWPSO\nTime taken: 5.9352240562438965\nMSE: 18525.90878409437\n\nRunning KNeighborsRegressor with SA\nTime taken: 6.364042043685913\nMSE: 13831.54518528037\n\nRunning KNeighborsRegressor with GA\nTime taken: 7.3911449909210205\nMSE: 18506.286819876466\n\n\nBest results:\nOptimizer: CS, Time: 1.5923922061920166\nOptimizer: IWPSO, Score: 18525.90878409437\n\n==================\n\nRunning DecisionTreeRegressor with ABC\nTime taken: 9.806201934814453\nMSE: 907.1253125000001\n\nRunning DecisionTreeRegressor with CS\nTime taken: 1.036245346069336\nMSE: 3001.1565625\n\nRunning DecisionTreeRegressor with GWO\nTime taken: 4.2139892578125\nMSE: 3027.4378125\n\nRunning DecisionTreeRegressor with PSO\nTime taken: 4.215313673019409\nMSE: 1612.5628125\n\nRunning DecisionTreeRegressor with IWPSO\nTime taken: 3.7902865409851074\nMSE: 3004.4378125\n\nRunning DecisionTreeRegressor with SA\nTime taken: 3.9897899627685547\nMSE: 6051.0315625\n\nRunning DecisionTreeRegressor with GA\nTime taken: 3.9214935302734375\nMSE: 386.8128125\n\n\nBest results:\nOptimizer: CS, Time: 1.036245346069336\nOptimizer: IWPSO, Score: 18525.90878409437\n\n==================\n\nRunning GradientBoostingRegressor with ABC\nTime taken: 339.95879673957825\nMSE: 8111.32647183224\n\nRunning GradientBoostingRegressor with CS\nTime taken: 53.629870891571045\nMSE: 14303.542574272686\n\nRunning GradientBoostingRegressor with GWO\nTime taken: 264.3906240463257\nMSE: 3028.1060410473187\n\nRunning GradientBoostingRegressor with PSO\nTime taken: 170.22627353668213\nMSE: 8088.20825691317\n\nRunning GradientBoostingRegressor with IWPSO\nTime taken: 35.62775015830994\nMSE: 3017.42546875\n\nRunning GradientBoostingRegressor with SA\nTime taken: 201.1031675338745\nMSE: 12847.96340531261\n\nRunning GradientBoostingRegressor with GA\nTime taken: 130.68924689292908\nMSE: 3037.1565625\n\n\nBest results:\nOptimizer: CS, Time: 1.036245346069336\nOptimizer: IWPSO, Score: 18525.90878409437\n\n==================\n\n",
     "output_type": "stream"
    }
   ]
  },
  {
   "cell_type": "markdown",
   "source": [
    "# Results\n",
    "\n",
    "**Classification**:\n",
    "Best result in terms of time shows Cuckoo Search, also it shows good performance in terms of F1 score. Best F1 score shows IWPSO. I think that CS is a best choice, because it very fast, therefore we can increase population size or number of epoch and achieve better scores.\n",
    "\n",
    "**Regression**:\n",
    "In this test, algorithms have strange MSE. Scores vary greatly from algorithm to algorithm. In terms of time, CS again performs better than other algorithms, IWPSO is also not far behindю\n",
    "\n",
    "**Conclusion**:\n",
    "CS and IWPSO are the best algorithms in terms of metrics and working time."
   ],
   "metadata": {
    "pycharm": {
     "name": "#%% md\n"
    }
   }
  }
 ]
}